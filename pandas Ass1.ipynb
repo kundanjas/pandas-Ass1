{
 "cells": [
  {
   "cell_type": "code",
   "execution_count": null,
   "id": "8622613f-52e2-452a-9179-8b74409202b5",
   "metadata": {},
   "outputs": [],
   "source": [
    "Q1. Create a Pandas Series that contains the following data: 4, 8, 15, 16, 23, and 42. Then, print the series."
   ]
  },
  {
   "cell_type": "code",
   "execution_count": 1,
   "id": "481d5473-de05-41da-a474-4859a47e15cf",
   "metadata": {},
   "outputs": [],
   "source": [
    "import pandas as pd"
   ]
  },
  {
   "cell_type": "code",
   "execution_count": 2,
   "id": "e37c71be-5e39-4eb1-a81e-49d9db5e617e",
   "metadata": {},
   "outputs": [
    {
     "name": "stdout",
     "output_type": "stream",
     "text": [
      "0     4\n",
      "1     8\n",
      "2    15\n",
      "3    16\n",
      "4    23\n",
      "5    42\n",
      "dtype: int64\n"
     ]
    }
   ],
   "source": [
    "data= [4,8,15,16,23,42]\n",
    "\n",
    "series =pd.Series(data)\n",
    "print(series)"
   ]
  },
  {
   "cell_type": "code",
   "execution_count": null,
   "id": "2ef758bf-532a-40b3-8dbc-9139a0fe73fd",
   "metadata": {},
   "outputs": [],
   "source": [
    "Q2. Create a variable of list type containing 10 elements in it, and apply pandas.Series function on the\n",
    "variable print it."
   ]
  },
  {
   "cell_type": "code",
   "execution_count": 3,
   "id": "77f3467e-5b13-4af8-ae07-24a9c55fac37",
   "metadata": {},
   "outputs": [],
   "source": [
    "import pandas as pd"
   ]
  },
  {
   "cell_type": "code",
   "execution_count": 4,
   "id": "eae9b3de-522a-456c-a587-b210f21b23de",
   "metadata": {},
   "outputs": [
    {
     "name": "stdout",
     "output_type": "stream",
     "text": [
      "0     1\n",
      "1     2\n",
      "2     4\n",
      "3     7\n",
      "4     9\n",
      "5    12\n",
      "6     6\n",
      "7    10\n",
      "8    13\n",
      "9    14\n",
      "dtype: int64\n"
     ]
    }
   ],
   "source": [
    "my_list=[1,2,4,7,9,12,6,10,13,14]\n",
    "\n",
    "series = pd.Series(my_list)\n",
    "print(series)"
   ]
  },
  {
   "cell_type": "code",
   "execution_count": null,
   "id": "df0d6856-8bad-4f67-9fb5-109b84a51c11",
   "metadata": {},
   "outputs": [],
   "source": [
    "Q3. Create a Pandas DataFrame that contains the following data:\n",
    "Name\n",
    "Alice\n",
    "Bob\n",
    "Claire\n",
    "\n",
    "Age\n",
    "25\n",
    "30\n",
    "27\n",
    "\n",
    "Gender\n",
    "Female\n",
    "Male\n",
    "Female\n",
    "\n",
    "then print DataFrame"
   ]
  },
  {
   "cell_type": "code",
   "execution_count": 6,
   "id": "e36eb2dc-2cc7-492e-b9da-c489433c4226",
   "metadata": {},
   "outputs": [],
   "source": [
    "import pandas as pd"
   ]
  },
  {
   "cell_type": "code",
   "execution_count": 8,
   "id": "b5962f7f-9f6b-4aa3-bfbf-d739e80fc8ea",
   "metadata": {},
   "outputs": [],
   "source": [
    "data={'Name':['Alice','Bob', 'Claire'],\n",
    "      'Age':[25,30,27],\n",
    "      'Gender':['Female','Male','Female'],}\n",
    "      "
   ]
  },
  {
   "cell_type": "code",
   "execution_count": 9,
   "id": "2f1b85d6-511a-419f-aec4-199fb93f935d",
   "metadata": {},
   "outputs": [
    {
     "name": "stdout",
     "output_type": "stream",
     "text": [
      "     Name  Age  Gender\n",
      "0   Alice   25  Female\n",
      "1     Bob   30    Male\n",
      "2  Claire   27  Female\n"
     ]
    }
   ],
   "source": [
    "df= pd.DataFrame(data)\n",
    "\n",
    "print(df)"
   ]
  },
  {
   "cell_type": "code",
   "execution_count": null,
   "id": "ce6532cc-e02a-45bf-9c53-d276f0ed2b04",
   "metadata": {},
   "outputs": [],
   "source": [
    "Q4. What is ‘DataFrame’ in pandas and how is it different from pandas.series? Explain with an example."
   ]
  },
  {
   "cell_type": "markdown",
   "id": "1ea4cd34-99e1-442e-a28d-61e0fe9ee77b",
   "metadata": {},
   "source": [
    "in pandas a data frame is a two dimensional labeled data structure with columns of potentially different types.its like a spreadsheet or sql table, where each colum can be of a different datatype."
   ]
  },
  {
   "cell_type": "code",
   "execution_count": 20,
   "id": "7554866f-81db-4a64-a5c2-d9e602a93cfc",
   "metadata": {},
   "outputs": [],
   "source": [
    "import pandas as pd\n"
   ]
  },
  {
   "cell_type": "code",
   "execution_count": 21,
   "id": "edadf734-44b5-4274-bbd9-df9a2b0857d8",
   "metadata": {},
   "outputs": [],
   "source": [
    "data ={'Name':['John','Anna','Anni','Bob'],\n",
    "       'Age':[25,30,29,35],\n",
    "       'City':['New York','Tokyo','Paris','London'],}\n"
   ]
  },
  {
   "cell_type": "code",
   "execution_count": 23,
   "id": "9a33f2ad-3b2e-4af2-8d14-7e5457cea0a9",
   "metadata": {},
   "outputs": [
    {
     "name": "stdout",
     "output_type": "stream",
     "text": [
      "DataFrame:\n",
      "   Name  Age      City\n",
      "0  John   25  New York\n",
      "1  Anna   30     Tokyo\n",
      "2  Anni   29     Paris\n",
      "3   Bob   35    London\n"
     ]
    }
   ],
   "source": [
    "df= pd.DataFrame(data)\n",
    "\n",
    "print(\"DataFrame:\")\n",
    "print(df)"
   ]
  },
  {
   "cell_type": "code",
   "execution_count": 24,
   "id": "238b880c-c64a-4465-b0f0-5dbd119c9169",
   "metadata": {},
   "outputs": [
    {
     "name": "stdout",
     "output_type": "stream",
     "text": [
      "/nSeries:\n",
      "0    25\n",
      "1    30\n",
      "2    29\n",
      "3    35\n",
      "Name: Age, dtype: int64\n"
     ]
    }
   ],
   "source": [
    "ages= pd.Series([25,30,29,35], name='Age')\n",
    "print(\"/nSeries:\")\n",
    "print(ages)"
   ]
  },
  {
   "cell_type": "code",
   "execution_count": null,
   "id": "fe07ff2e-62ac-430b-bc52-937780d03011",
   "metadata": {},
   "outputs": [],
   "source": [
    "Q5. What are some common functions you can use to manipulate data in a Pandas DataFrame? Can\n",
    "you give an example of when you might use one of these functions?"
   ]
  },
  {
   "cell_type": "markdown",
   "id": "db1c2fc8-4c88-4009-b686-10406a87d371",
   "metadata": {},
   "source": [
    "df.head() Return the first 5 rows of the Dataframe\n",
    "df.tail(10) Returns the last 10 rows of the data frame\n"
   ]
  },
  {
   "cell_type": "code",
   "execution_count": null,
   "id": "31c99777-a034-4909-b28a-0e2842d05566",
   "metadata": {},
   "outputs": [],
   "source": [
    "describe():sumary statics of numerical columns\n",
    "info():information of data frame\n",
    "df.shape # Return of numberof rows and columns in the dataframe\n",
    "df.dropna() Removes rows with any missing values"
   ]
  },
  {
   "cell_type": "code",
   "execution_count": null,
   "id": "6c56fe6d-6139-4ab2-b57e-a417ce945110",
   "metadata": {},
   "outputs": [],
   "source": [
    "Q6. Which of the following is mutable in nature Series, DataFrame, Panel?"
   ]
  },
  {
   "cell_type": "markdown",
   "id": "74892cb6-a7bd-4875-a28b-27573f124066",
   "metadata": {},
   "source": [
    "in panda both Series and DataFrame are mutable, meaning their values can be changed after creation however pannel \n",
    "obejects are not mutable series and dataframe allows for modifications such as adding  or deleting rows changing values and performing various operations on the data."
   ]
  },
  {
   "cell_type": "code",
   "execution_count": null,
   "id": "4d70981f-42e9-467d-9881-3076a01d2dcf",
   "metadata": {},
   "outputs": [],
   "source": [
    "Q7. Create a DataFrame using multiple Series. Explain with an example."
   ]
  },
  {
   "cell_type": "code",
   "execution_count": 25,
   "id": "35b1fe68-fbd7-4180-aa3d-24060f56df53",
   "metadata": {},
   "outputs": [],
   "source": [
    "import pandas as pd"
   ]
  },
  {
   "cell_type": "code",
   "execution_count": 26,
   "id": "463d9014-3255-4637-bb53-4ce666b228f3",
   "metadata": {},
   "outputs": [],
   "source": [
    "s1= pd.Series([10,20,30,40,50],name='A')\n",
    "s2 = pd.Series(['a','b','c','d','e'],name='B')\n",
    "s3= pd.Series([True,False,True,False,True],name='C')\n"
   ]
  },
  {
   "cell_type": "code",
   "execution_count": null,
   "id": "92363889-082b-4aab-8550-b4511f3b5969",
   "metadata": {},
   "outputs": [],
   "source": [
    "df= pd.DataFrame({'Column1':s1,'Column2':s2,'Column3':s3})"
   ]
  }
 ],
 "metadata": {
  "kernelspec": {
   "display_name": "Python 3 (ipykernel)",
   "language": "python",
   "name": "python3"
  },
  "language_info": {
   "codemirror_mode": {
    "name": "ipython",
    "version": 3
   },
   "file_extension": ".py",
   "mimetype": "text/x-python",
   "name": "python",
   "nbconvert_exporter": "python",
   "pygments_lexer": "ipython3",
   "version": "3.10.8"
  }
 },
 "nbformat": 4,
 "nbformat_minor": 5
}
